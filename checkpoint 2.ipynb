{
 "cells": [
  {
   "cell_type": "code",
   "execution_count": null,
   "id": "d5663086-4cb4-462a-99f5-292820982e7e",
   "metadata": {},
   "outputs": [],
   "source": [
    "a = 10\n",
    "b = 3.14\n",
    "c = \"Hello\"\n",
    "\n",
    "a = float(a)\n",
    "b = int(b)\n",
    "c = int(len(c))\n",
    "\n",
    "sum_ab = a + b\n",
    "diff_ab = a - b\n",
    "product_ab = a * b\n",
    "quotient_ab = a / b\n",
    "remainder_ab = a % b\n",
    "\n",
    "is_equal = a == b\n",
    "is_not_equal = a != b\n",
    "is_greater = a > b\n",
    "is_less = a < b\n",
    "\n",
    "if is_equal:\n",
    "    print(\"a and b are equal.\")\n",
    "elif is_greater:\n",
    "    print(\"a is greater than b.\")\n",
    "else:\n",
    "    print(\"a is less than or not equal to b.\")\n",
    "\n",
    "print(\"loop :\")\n",
    "for i in range(5):\n",
    "    print(i)\n",
    "\n",
    "print(\"loop :\")\n",
    "count = 0\n",
    "while count < 5:\n",
    "    print(count)\n",
    "    count += 1"
   ]
  }
 ],
 "metadata": {
  "kernelspec": {
   "display_name": "Python 3 (ipykernel)",
   "language": "python",
   "name": "python3"
  },
  "language_info": {
   "codemirror_mode": {
    "name": "ipython",
    "version": 3
   },
   "file_extension": ".py",
   "mimetype": "text/x-python",
   "name": "python",
   "nbconvert_exporter": "python",
   "pygments_lexer": "ipython3",
   "version": "3.12.4"
  }
 },
 "nbformat": 4,
 "nbformat_minor": 5
}
